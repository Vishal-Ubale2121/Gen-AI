{
 "cells": [
  {
   "cell_type": "markdown",
   "id": "db154fc9-f308-4999-9797-efcb51b354d3",
   "metadata": {},
   "source": [
    "# Generative - AI"
   ]
  },
  {
   "cell_type": "markdown",
   "id": "10e66819-1289-46f9-80bd-e7f45197fa5d",
   "metadata": {},
   "source": [
    "## 1. Basics of Python"
   ]
  },
  {
   "cell_type": "markdown",
   "id": "3bff3401-95fc-4bad-bf05-d5f707523437",
   "metadata": {},
   "source": [
    "- Data types\n",
    "- Variables\n",
    "- Print formatting"
   ]
  },
  {
   "cell_type": "markdown",
   "id": "694951a0-3422-4467-84dc-c97bbd92c02e",
   "metadata": {},
   "source": [
    "## Data Types"
   ]
  },
  {
   "cell_type": "markdown",
   "id": "c1d43b4f-09d6-4b45-b816-706374b2696d",
   "metadata": {},
   "source": [
    "### 1. Integer"
   ]
  },
  {
   "cell_type": "code",
   "execution_count": 138,
   "id": "2bcdaf71-91a2-4c69-89c7-d6f0e5569642",
   "metadata": {},
   "outputs": [
    {
     "data": {
      "text/plain": [
       "1"
      ]
     },
     "execution_count": 138,
     "metadata": {},
     "output_type": "execute_result"
    }
   ],
   "source": [
    "1"
   ]
  },
  {
   "cell_type": "code",
   "execution_count": 139,
   "id": "8661140e-e02c-4ce6-9941-ee2aa7379874",
   "metadata": {},
   "outputs": [
    {
     "data": {
      "text/plain": [
       "2"
      ]
     },
     "execution_count": 139,
     "metadata": {},
     "output_type": "execute_result"
    }
   ],
   "source": [
    "1 + 1"
   ]
  },
  {
   "cell_type": "code",
   "execution_count": 140,
   "id": "c6f549ce-3e09-49f9-a957-e5fd922c2953",
   "metadata": {},
   "outputs": [
    {
     "data": {
      "text/plain": [
       "15"
      ]
     },
     "execution_count": 140,
     "metadata": {},
     "output_type": "execute_result"
    }
   ],
   "source": [
    "3 * 5"
   ]
  },
  {
   "cell_type": "markdown",
   "id": "32427a75-44b7-4b38-86f3-a55e0fd06948",
   "metadata": {},
   "source": [
    "#### Check data types"
   ]
  },
  {
   "cell_type": "code",
   "execution_count": 141,
   "id": "2481fef0-bfb2-49f1-b542-db8693a15d7f",
   "metadata": {},
   "outputs": [
    {
     "data": {
      "text/plain": [
       "int"
      ]
     },
     "execution_count": 141,
     "metadata": {},
     "output_type": "execute_result"
    }
   ],
   "source": [
    "type(15)"
   ]
  },
  {
   "cell_type": "markdown",
   "id": "d2f3b8f7-7997-4c04-9edd-85ee87b228eb",
   "metadata": {},
   "source": [
    "###"
   ]
  },
  {
   "cell_type": "markdown",
   "id": "6cc8b88b-45e3-4315-8f18-49c4c4d82c54",
   "metadata": {},
   "source": [
    "### 2. String"
   ]
  },
  {
   "cell_type": "code",
   "execution_count": 142,
   "id": "0bfba1cc-1d81-4250-bffa-73cab429e5f4",
   "metadata": {},
   "outputs": [
    {
     "data": {
      "text/plain": [
       "'Hello'"
      ]
     },
     "execution_count": 142,
     "metadata": {},
     "output_type": "execute_result"
    }
   ],
   "source": [
    "\"Hello\""
   ]
  },
  {
   "cell_type": "code",
   "execution_count": 143,
   "id": "bdf86e82-1a3c-46ef-96ff-d757dd4f1f8c",
   "metadata": {},
   "outputs": [
    {
     "data": {
      "text/plain": [
       "'This is a String'"
      ]
     },
     "execution_count": 143,
     "metadata": {},
     "output_type": "execute_result"
    }
   ],
   "source": [
    "\"This is a String\""
   ]
  },
  {
   "cell_type": "markdown",
   "id": "8742ab3b-d7d2-4798-a1ec-89615ed261b0",
   "metadata": {},
   "source": [
    "#### Check data types"
   ]
  },
  {
   "cell_type": "code",
   "execution_count": 144,
   "id": "fc7e356c-b9f3-437f-b5e7-de89ea79ebc0",
   "metadata": {},
   "outputs": [
    {
     "data": {
      "text/plain": [
       "str"
      ]
     },
     "execution_count": 144,
     "metadata": {},
     "output_type": "execute_result"
    }
   ],
   "source": [
    "type(\"This is a String\")"
   ]
  },
  {
   "cell_type": "markdown",
   "id": "87fee5c6-73a0-4fdc-8ca8-30d82e65905a",
   "metadata": {},
   "source": [
    "###"
   ]
  },
  {
   "cell_type": "markdown",
   "id": "35bcb93e-9046-42c0-9b9c-caf331edfe5e",
   "metadata": {},
   "source": [
    "### 3. Float"
   ]
  },
  {
   "cell_type": "code",
   "execution_count": 145,
   "id": "230e8649-b545-4634-9a0a-384d50e72c09",
   "metadata": {},
   "outputs": [
    {
     "data": {
      "text/plain": [
       "7.0"
      ]
     },
     "execution_count": 145,
     "metadata": {},
     "output_type": "execute_result"
    }
   ],
   "source": [
    "7.0"
   ]
  },
  {
   "cell_type": "code",
   "execution_count": 146,
   "id": "80f7381f-141a-475e-8f23-cbbccb85a5c7",
   "metadata": {},
   "outputs": [
    {
     "data": {
      "text/plain": [
       "12.33"
      ]
     },
     "execution_count": 146,
     "metadata": {},
     "output_type": "execute_result"
    }
   ],
   "source": [
    "12.33"
   ]
  },
  {
   "cell_type": "markdown",
   "id": "2ec0ce34-4fa9-476a-9f9d-cf1c33278d6e",
   "metadata": {},
   "source": [
    "#### Check data types"
   ]
  },
  {
   "cell_type": "code",
   "execution_count": 147,
   "id": "15f86315-c566-4d4e-a877-6ccd46a6d73c",
   "metadata": {},
   "outputs": [
    {
     "data": {
      "text/plain": [
       "float"
      ]
     },
     "execution_count": 147,
     "metadata": {},
     "output_type": "execute_result"
    }
   ],
   "source": [
    "type(12.33)"
   ]
  },
  {
   "cell_type": "markdown",
   "id": "b5f91888-10f9-4645-be48-479517c84d58",
   "metadata": {},
   "source": [
    "###"
   ]
  },
  {
   "cell_type": "markdown",
   "id": "2058166b-4d84-47c0-b33e-077aae271559",
   "metadata": {},
   "source": [
    "### 4. Boolean"
   ]
  },
  {
   "cell_type": "code",
   "execution_count": 148,
   "id": "89e5eda3-9f6c-44f3-8539-51248c2f6369",
   "metadata": {},
   "outputs": [
    {
     "data": {
      "text/plain": [
       "True"
      ]
     },
     "execution_count": 148,
     "metadata": {},
     "output_type": "execute_result"
    }
   ],
   "source": [
    "True"
   ]
  },
  {
   "cell_type": "code",
   "execution_count": 149,
   "id": "3828ccde-4973-480b-b5c9-c4a0ba203b75",
   "metadata": {},
   "outputs": [
    {
     "data": {
      "text/plain": [
       "False"
      ]
     },
     "execution_count": 149,
     "metadata": {},
     "output_type": "execute_result"
    }
   ],
   "source": [
    "False"
   ]
  },
  {
   "cell_type": "markdown",
   "id": "5be5a4d3-76a5-48d4-bd0e-9fbcdcf5b214",
   "metadata": {},
   "source": [
    "#### Check data types"
   ]
  },
  {
   "cell_type": "code",
   "execution_count": 150,
   "id": "1a23aa76-1827-416c-aae6-9e20e72b9646",
   "metadata": {},
   "outputs": [
    {
     "data": {
      "text/plain": [
       "bool"
      ]
     },
     "execution_count": 150,
     "metadata": {},
     "output_type": "execute_result"
    }
   ],
   "source": [
    "type(True)"
   ]
  },
  {
   "cell_type": "markdown",
   "id": "35318f2b-cb77-425a-a2e6-90abf9fd2c76",
   "metadata": {},
   "source": [
    "###"
   ]
  },
  {
   "cell_type": "markdown",
   "id": "83df0b6b-fa56-4050-a68d-82bd41c4c0b9",
   "metadata": {},
   "source": [
    "### 4. List"
   ]
  },
  {
   "cell_type": "code",
   "execution_count": 151,
   "id": "fa0a9d1b-02ad-4fb1-9be5-254ced869e1e",
   "metadata": {},
   "outputs": [
    {
     "data": {
      "text/plain": [
       "['Apple', 'Banana', 'Cheery']"
      ]
     },
     "execution_count": 151,
     "metadata": {},
     "output_type": "execute_result"
    }
   ],
   "source": [
    "['Apple', 'Banana', 'Cheery']"
   ]
  },
  {
   "cell_type": "code",
   "execution_count": 152,
   "id": "dba46842-2c41-497d-81af-a3a9547d6b88",
   "metadata": {},
   "outputs": [
    {
     "data": {
      "text/plain": [
       "[1, 3, 4, 7]"
      ]
     },
     "execution_count": 152,
     "metadata": {},
     "output_type": "execute_result"
    }
   ],
   "source": [
    "[1, 3, 4, 7]"
   ]
  },
  {
   "cell_type": "markdown",
   "id": "e0452824-4f7e-4c93-b6be-9a287e4192f0",
   "metadata": {},
   "source": [
    "#### Check data types"
   ]
  },
  {
   "cell_type": "code",
   "execution_count": 153,
   "id": "643adbe6-a8bc-4224-b340-f27ed0b26657",
   "metadata": {},
   "outputs": [
    {
     "data": {
      "text/plain": [
       "list"
      ]
     },
     "execution_count": 153,
     "metadata": {},
     "output_type": "execute_result"
    }
   ],
   "source": [
    "type([1, 3, 4, 7])"
   ]
  },
  {
   "cell_type": "markdown",
   "id": "d0374ff4-da54-47c0-8519-c0b101c9eb03",
   "metadata": {},
   "source": [
    "###"
   ]
  },
  {
   "cell_type": "markdown",
   "id": "207ef935-977f-490a-8aa3-367a73e9860b",
   "metadata": {},
   "source": [
    "### 5. Dictionary"
   ]
  },
  {
   "cell_type": "code",
   "execution_count": 154,
   "id": "605ab573-7296-4573-ac8d-47427f7505c5",
   "metadata": {},
   "outputs": [
    {
     "data": {
      "text/plain": [
       "{'Name': 'Ajay', 'Age': 27, 'Location': 'Pune', 'Percentage': 88.21}"
      ]
     },
     "execution_count": 154,
     "metadata": {},
     "output_type": "execute_result"
    }
   ],
   "source": [
    "{\n",
    "    'Name': 'Ajay',\n",
    "    'Age': 27,\n",
    "    'Location': 'Pune',\n",
    "    'Percentage': 88.21\n",
    "}"
   ]
  },
  {
   "cell_type": "markdown",
   "id": "d1765e83-62c3-438d-9d51-edf878d0b8f9",
   "metadata": {},
   "source": [
    "#### Check data types"
   ]
  },
  {
   "cell_type": "code",
   "execution_count": 155,
   "id": "b1ec9b28-dc25-4700-89ee-7ba3c54ee71c",
   "metadata": {},
   "outputs": [
    {
     "data": {
      "text/plain": [
       "dict"
      ]
     },
     "execution_count": 155,
     "metadata": {},
     "output_type": "execute_result"
    }
   ],
   "source": [
    "type({\n",
    "    'Name': 'Ajay',\n",
    "    'Age': 27,\n",
    "    'Location': 'Pune',\n",
    "    'Percentage': 88.21\n",
    "})"
   ]
  },
  {
   "cell_type": "markdown",
   "id": "5397c572-2721-42f9-8e9c-f5514a95b753",
   "metadata": {},
   "source": [
    "###"
   ]
  },
  {
   "cell_type": "markdown",
   "id": "ade87bb9-5aad-44c3-be36-de0b9c042d9d",
   "metadata": {},
   "source": [
    "### 5. Set"
   ]
  },
  {
   "cell_type": "code",
   "execution_count": 156,
   "id": "95b80cdf-999b-48d8-b8c3-83032c527b62",
   "metadata": {},
   "outputs": [
    {
     "data": {
      "text/plain": [
       "{12, 23.44, 'Hello'}"
      ]
     },
     "execution_count": 156,
     "metadata": {},
     "output_type": "execute_result"
    }
   ],
   "source": [
    "{\"Hello\", 12, 23.44}"
   ]
  },
  {
   "cell_type": "markdown",
   "id": "401f6381-d106-4013-b9ac-6621e46e4532",
   "metadata": {},
   "source": [
    "#### Check data types"
   ]
  },
  {
   "cell_type": "code",
   "execution_count": 157,
   "id": "f44ef907-7449-4e99-9c57-cba87cd5de44",
   "metadata": {},
   "outputs": [
    {
     "data": {
      "text/plain": [
       "set"
      ]
     },
     "execution_count": 157,
     "metadata": {},
     "output_type": "execute_result"
    }
   ],
   "source": [
    "type({\"Hello\", 12, 23.44})"
   ]
  },
  {
   "cell_type": "markdown",
   "id": "caee9a1e-3f50-4b95-9ebc-c55fceec3258",
   "metadata": {},
   "source": [
    "###"
   ]
  },
  {
   "cell_type": "markdown",
   "id": "849017d6-b851-4113-ad3d-08062fbfb0aa",
   "metadata": {},
   "source": [
    "### 6. Tuple"
   ]
  },
  {
   "cell_type": "code",
   "execution_count": 158,
   "id": "1fecf3c1-2bc5-4d2e-91ac-f6162ba47fa0",
   "metadata": {},
   "outputs": [
    {
     "data": {
      "text/plain": [
       "(2, 4, 5)"
      ]
     },
     "execution_count": 158,
     "metadata": {},
     "output_type": "execute_result"
    }
   ],
   "source": [
    "(2, 4, 5)"
   ]
  },
  {
   "cell_type": "code",
   "execution_count": 159,
   "id": "d4156372-afb2-4744-ac57-9e65f6388c50",
   "metadata": {},
   "outputs": [
    {
     "data": {
      "text/plain": [
       "('Hello', 'world')"
      ]
     },
     "execution_count": 159,
     "metadata": {},
     "output_type": "execute_result"
    }
   ],
   "source": [
    "('Hello', 'world')"
   ]
  },
  {
   "cell_type": "markdown",
   "id": "2f4123c8-9713-439b-92e5-ff9e8c807ee6",
   "metadata": {},
   "source": [
    "#### Check data types"
   ]
  },
  {
   "cell_type": "code",
   "execution_count": 160,
   "id": "fb92d9b0-7dbe-400a-92ff-37ebca7dd332",
   "metadata": {},
   "outputs": [
    {
     "data": {
      "text/plain": [
       "tuple"
      ]
     },
     "execution_count": 160,
     "metadata": {},
     "output_type": "execute_result"
    }
   ],
   "source": [
    "type((2, 4, 5))"
   ]
  },
  {
   "cell_type": "markdown",
   "id": "ade92227-b538-41ce-b001-2553608c82e8",
   "metadata": {},
   "source": [
    "###"
   ]
  },
  {
   "cell_type": "markdown",
   "id": "a942c403-262b-4862-9989-4356cb6ff32c",
   "metadata": {},
   "source": [
    "### 7. Nonetype"
   ]
  },
  {
   "cell_type": "code",
   "execution_count": 161,
   "id": "cb39cdd5-9173-41d8-9410-93e984700002",
   "metadata": {},
   "outputs": [],
   "source": [
    "None"
   ]
  },
  {
   "cell_type": "markdown",
   "id": "e0e0649d-98b8-4171-b41e-0b04f78357df",
   "metadata": {},
   "source": [
    "#### Check data types"
   ]
  },
  {
   "cell_type": "code",
   "execution_count": 162,
   "id": "ed34e53c-c361-4e01-9fa6-e117e774315c",
   "metadata": {},
   "outputs": [
    {
     "data": {
      "text/plain": [
       "NoneType"
      ]
     },
     "execution_count": 162,
     "metadata": {},
     "output_type": "execute_result"
    }
   ],
   "source": [
    "type(None)"
   ]
  },
  {
   "cell_type": "markdown",
   "id": "a172b4b5-fd22-4a54-b759-58d026e822fc",
   "metadata": {},
   "source": [
    "###"
   ]
  },
  {
   "cell_type": "markdown",
   "id": "52e39dda-9135-45a6-a2cf-ea126e67e149",
   "metadata": {},
   "source": [
    "## Variables"
   ]
  },
  {
   "cell_type": "code",
   "execution_count": 163,
   "id": "c0229e05-6dd7-4585-a854-a869a3d47808",
   "metadata": {},
   "outputs": [
    {
     "name": "stdout",
     "output_type": "stream",
     "text": [
      "<class 'int'>\n",
      "<class 'str'>\n",
      "<class 'float'>\n"
     ]
    }
   ],
   "source": [
    "a = 12\n",
    "b = \"Hello\"\n",
    "c = 78.22\n",
    "\n",
    "print(type(a))\n",
    "print(type(b))\n",
    "print(type(c))"
   ]
  },
  {
   "cell_type": "markdown",
   "id": "38e21954-d5cb-4c5d-bb82-75694700a52c",
   "metadata": {},
   "source": [
    "###"
   ]
  },
  {
   "cell_type": "markdown",
   "id": "a2d80d62-3bc6-49dc-a829-766f423c0b82",
   "metadata": {},
   "source": [
    "## Printing formats"
   ]
  },
  {
   "cell_type": "code",
   "execution_count": 164,
   "id": "b8ffa38f-90e4-46bb-b30c-42df52f2b333",
   "metadata": {},
   "outputs": [
    {
     "name": "stdout",
     "output_type": "stream",
     "text": [
      "Hello world..!\n"
     ]
    }
   ],
   "source": [
    "print('Hello world..!')"
   ]
  },
  {
   "cell_type": "code",
   "execution_count": 165,
   "id": "be0083af-0117-4e3c-8d73-28f45df62eea",
   "metadata": {},
   "outputs": [],
   "source": [
    "name = 'Sumit'\n",
    "location = 'Pune'\n",
    "pin = 411033"
   ]
  },
  {
   "cell_type": "code",
   "execution_count": 166,
   "id": "0f0185de-e499-4934-9fa7-39f852aae6a4",
   "metadata": {},
   "outputs": [
    {
     "name": "stdout",
     "output_type": "stream",
     "text": [
      "My name is Sumit and I am living in Pune and my pincode is 411033.\n"
     ]
    }
   ],
   "source": [
    "print('My name is {} and I am living in {} and my pincode is {}.'.format(name, location, pin))"
   ]
  },
  {
   "cell_type": "code",
   "execution_count": 167,
   "id": "b495a220-23fd-4597-9a4d-3fd7b81fac0c",
   "metadata": {},
   "outputs": [
    {
     "name": "stdout",
     "output_type": "stream",
     "text": [
      "My name is Sumit and I am living in Pune and my pincode is 411033.\n"
     ]
    }
   ],
   "source": [
    "print(f'My name is {name} and I am living in {location} and my pincode is {pin}.')"
   ]
  },
  {
   "cell_type": "code",
   "execution_count": null,
   "id": "84efea52-36ba-4bd9-81b8-fe1ea4d28cc0",
   "metadata": {},
   "outputs": [],
   "source": []
  }
 ],
 "metadata": {
  "kernelspec": {
   "display_name": "Python 3 (ipykernel)",
   "language": "python",
   "name": "python3"
  },
  "language_info": {
   "codemirror_mode": {
    "name": "ipython",
    "version": 3
   },
   "file_extension": ".py",
   "mimetype": "text/x-python",
   "name": "python",
   "nbconvert_exporter": "python",
   "pygments_lexer": "ipython3",
   "version": "3.12.1"
  }
 },
 "nbformat": 4,
 "nbformat_minor": 5
}
