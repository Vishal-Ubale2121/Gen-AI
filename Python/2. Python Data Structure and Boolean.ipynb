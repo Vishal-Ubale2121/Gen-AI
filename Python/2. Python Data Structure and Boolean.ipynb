{
 "cells": [
  {
   "cell_type": "markdown",
   "id": "bf99380a-f9a6-4a66-8f14-a4f7abc4e64f",
   "metadata": {},
   "source": [
    "# Generative - AI"
   ]
  },
  {
   "cell_type": "markdown",
   "id": "171b05aa-b69d-4249-a2ea-f74900874a6b",
   "metadata": {},
   "source": [
    "## 1. Python Data structure and boolean"
   ]
  },
  {
   "cell_type": "markdown",
   "id": "ca811a68-77af-44a7-8ae9-68e80a6930dc",
   "metadata": {},
   "source": [
    "- Boolean\n",
    "- List\n",
    "- Dictinory\n",
    "- Tuple\n",
    "- Sets"
   ]
  },
  {
   "cell_type": "markdown",
   "id": "9f5389c6-bf11-4420-8bcf-93b8827bf580",
   "metadata": {},
   "source": [
    "### 1. Boolean"
   ]
  },
  {
   "cell_type": "code",
   "execution_count": 1,
   "id": "a3063546-8409-46ec-8bd8-931378cd479b",
   "metadata": {},
   "outputs": [
    {
     "data": {
      "text/plain": [
       "True"
      ]
     },
     "execution_count": 1,
     "metadata": {},
     "output_type": "execute_result"
    }
   ],
   "source": [
    "True"
   ]
  },
  {
   "cell_type": "code",
   "execution_count": 2,
   "id": "aaaf360b-0da8-4c4b-974b-1df13fdc3261",
   "metadata": {},
   "outputs": [
    {
     "data": {
      "text/plain": [
       "False"
      ]
     },
     "execution_count": 2,
     "metadata": {},
     "output_type": "execute_result"
    }
   ],
   "source": [
    "False"
   ]
  },
  {
   "cell_type": "code",
   "execution_count": 3,
   "id": "f7c53995-8fcd-4a8b-9ec3-9127c482873f",
   "metadata": {},
   "outputs": [
    {
     "data": {
      "text/plain": [
       "False"
      ]
     },
     "execution_count": 3,
     "metadata": {},
     "output_type": "execute_result"
    }
   ],
   "source": [
    "bool()"
   ]
  },
  {
   "cell_type": "code",
   "execution_count": 4,
   "id": "b4356e79-e24a-4f43-af73-cce6b3c6d722",
   "metadata": {},
   "outputs": [
    {
     "data": {
      "text/plain": [
       "False"
      ]
     },
     "execution_count": 4,
     "metadata": {},
     "output_type": "execute_result"
    }
   ],
   "source": [
    "True and False"
   ]
  },
  {
   "cell_type": "code",
   "execution_count": 5,
   "id": "86cd396c-fc9c-48cb-bcbe-28b1dc9d301d",
   "metadata": {},
   "outputs": [
    {
     "data": {
      "text/plain": [
       "True"
      ]
     },
     "execution_count": 5,
     "metadata": {},
     "output_type": "execute_result"
    }
   ],
   "source": [
    "True or False"
   ]
  },
  {
   "cell_type": "code",
   "execution_count": 6,
   "id": "325650fb-7915-4082-a998-2079e18bc710",
   "metadata": {},
   "outputs": [
    {
     "data": {
      "text/plain": [
       "True"
      ]
     },
     "execution_count": 6,
     "metadata": {},
     "output_type": "execute_result"
    }
   ],
   "source": [
    "True and True"
   ]
  },
  {
   "cell_type": "code",
   "execution_count": 7,
   "id": "6f7cf10f-4f52-453d-b3ef-f09bffa8981a",
   "metadata": {},
   "outputs": [
    {
     "data": {
      "text/plain": [
       "False"
      ]
     },
     "execution_count": 7,
     "metadata": {},
     "output_type": "execute_result"
    }
   ],
   "source": [
    "False and False"
   ]
  },
  {
   "cell_type": "code",
   "execution_count": 8,
   "id": "79e7d424-f831-468b-8d33-b03215a06942",
   "metadata": {},
   "outputs": [],
   "source": [
    "a = 'Hello World'\n",
    "b = 'Hello 123'"
   ]
  },
  {
   "cell_type": "code",
   "execution_count": 9,
   "id": "c13232db-da36-4f92-9d5f-13132deaf750",
   "metadata": {},
   "outputs": [
    {
     "name": "stdout",
     "output_type": "stream",
     "text": [
      "Is Alphanumeric: False\n",
      "Is Upper case: False\n",
      "Is Lower case: False\n",
      "Is Digit: False\n",
      "Is Title: True\n",
      "Is Starts with P: False\n",
      "Is Ends with d: True\n",
      "Is Space in between: False\n"
     ]
    }
   ],
   "source": [
    "print('Is Alphanumeric:', a.isalnum())\n",
    "print('Is Upper case:', a.isupper())\n",
    "print('Is Lower case:', a.islower())\n",
    "print('Is Digit:', a.isdigit())\n",
    "print('Is Title:', a.istitle())\n",
    "print('Is Starts with P:', a.startswith('P'))\n",
    "print('Is Ends with d:', a.endswith('d'))\n",
    "print('Is Space in between:', a.isspace())"
   ]
  },
  {
   "cell_type": "markdown",
   "id": "7e148b24-9740-48ee-ba14-9089ae34ed47",
   "metadata": {},
   "source": [
    "###"
   ]
  },
  {
   "cell_type": "markdown",
   "id": "1273f3b7-ba11-487a-8115-60fc0f92520e",
   "metadata": {},
   "source": [
    "### 2. List"
   ]
  },
  {
   "cell_type": "code",
   "execution_count": 10,
   "id": "83a81517-ee76-418b-9536-2425c80b19dc",
   "metadata": {},
   "outputs": [
    {
     "data": {
      "text/plain": [
       "list"
      ]
     },
     "execution_count": 10,
     "metadata": {},
     "output_type": "execute_result"
    }
   ],
   "source": [
    "list_example = []\n",
    "type(list_example)"
   ]
  },
  {
   "cell_type": "code",
   "execution_count": 11,
   "id": "2cd098d8-3c6b-4d70-8347-1d597a704c0a",
   "metadata": {},
   "outputs": [
    {
     "data": {
      "text/plain": [
       "4"
      ]
     },
     "execution_count": 11,
     "metadata": {},
     "output_type": "execute_result"
    }
   ],
   "source": [
    "# len method\n",
    "list_example = [12, 45, 'Hello', 'Brother']\n",
    "len(list_example)"
   ]
  },
  {
   "cell_type": "code",
   "execution_count": 12,
   "id": "eed16144-bb19-4e9a-bb4d-d2bd65eec7b2",
   "metadata": {},
   "outputs": [
    {
     "data": {
      "text/plain": [
       "[12, 45, 'Hello', 'Brother', 23]"
      ]
     },
     "execution_count": 12,
     "metadata": {},
     "output_type": "execute_result"
    }
   ],
   "source": [
    "# append method - It append the item at the end of the list\n",
    "list_example.append(23)\n",
    "list_example"
   ]
  },
  {
   "cell_type": "code",
   "execution_count": 13,
   "id": "39c1eb32-ee0c-483b-9fca-62fd4c46194b",
   "metadata": {},
   "outputs": [],
   "source": [
    "# extend - It also add the element in the end of the list"
   ]
  },
  {
   "cell_type": "code",
   "execution_count": 14,
   "id": "9eb07880-17f9-4267-9453-93e8ae51c400",
   "metadata": {},
   "outputs": [
    {
     "data": {
      "text/plain": [
       "[12, 45, 'Hello', 'Brother', 23, 'Add']"
      ]
     },
     "execution_count": 14,
     "metadata": {},
     "output_type": "execute_result"
    }
   ],
   "source": [
    "list_example.append('Add')\n",
    "list_example"
   ]
  },
  {
   "cell_type": "code",
   "execution_count": 15,
   "id": "bc8fd4fa-6ee1-4f4c-aaf4-87cd69874035",
   "metadata": {},
   "outputs": [
    {
     "data": {
      "text/plain": [
       "[]"
      ]
     },
     "execution_count": 15,
     "metadata": {},
     "output_type": "execute_result"
    }
   ],
   "source": [
    "# clear - It clears the list\n",
    "list_example.clear()\n",
    "list_example"
   ]
  },
  {
   "cell_type": "code",
   "execution_count": 16,
   "id": "97a52fe3-5bdf-4425-8d53-e4ae17bf9749",
   "metadata": {},
   "outputs": [],
   "source": [
    "list_example = ['Apple', 'Banana', 'Cheery', 'Orange', 'Grape', 'Kiwi']"
   ]
  },
  {
   "cell_type": "code",
   "execution_count": 17,
   "id": "2815f4c0-71b8-45ff-b79a-717cd7643521",
   "metadata": {},
   "outputs": [
    {
     "data": {
      "text/plain": [
       "['Apple', 'Banana', 'Cheery', 'Orange', 'Grape', 'Kiwi']"
      ]
     },
     "execution_count": 17,
     "metadata": {},
     "output_type": "execute_result"
    }
   ],
   "source": [
    "# copy - It copies the current list in new variable\n",
    "new_list = list_example.copy()\n",
    "new_list"
   ]
  },
  {
   "cell_type": "code",
   "execution_count": 18,
   "id": "e049863e-3e4c-4aee-870c-35e5c6a1815e",
   "metadata": {},
   "outputs": [
    {
     "data": {
      "text/plain": [
       "['Kiwi', 'Grape', 'Orange', 'Cheery', 'Banana', 'Apple']"
      ]
     },
     "execution_count": 18,
     "metadata": {},
     "output_type": "execute_result"
    }
   ],
   "source": [
    "# reverse - It reverse the order of the list elements\n",
    "list_example.reverse()\n",
    "list_example"
   ]
  },
  {
   "cell_type": "code",
   "execution_count": 19,
   "id": "929038da-d963-4b7c-b413-b8a0f04a3bd3",
   "metadata": {},
   "outputs": [
    {
     "data": {
      "text/plain": [
       "5"
      ]
     },
     "execution_count": 19,
     "metadata": {},
     "output_type": "execute_result"
    }
   ],
   "source": [
    "# index - Find the index of perticular item\n",
    "list_example.index('Apple')"
   ]
  },
  {
   "cell_type": "code",
   "execution_count": 20,
   "id": "bf0dbd32-4e9e-40cf-9199-286e6d2848e3",
   "metadata": {},
   "outputs": [
    {
     "data": {
      "text/plain": [
       "['Coconut', 'Kiwi', 'Grape', 'Orange', 'Cheery', 'Banana', 'Apple']"
      ]
     },
     "execution_count": 20,
     "metadata": {},
     "output_type": "execute_result"
    }
   ],
   "source": [
    "# insert - Insert add the element at the begining Parameters = (Index where need to add, Data)\n",
    "list_example.insert(0, 'Coconut')\n",
    "list_example"
   ]
  },
  {
   "cell_type": "code",
   "execution_count": 21,
   "id": "50387a68-7748-4ec3-bce1-987df1905a41",
   "metadata": {},
   "outputs": [
    {
     "name": "stdout",
     "output_type": "stream",
     "text": [
      "Apple\n",
      "Grape\n"
     ]
    }
   ],
   "source": [
    "# pop - Remove the element from last element\n",
    "print(list_example.pop()) # If not specified index or item it will remove last element\n",
    "print(list_example.pop(2)) # Remove 2nd index element"
   ]
  },
  {
   "cell_type": "code",
   "execution_count": 22,
   "id": "d3c0e15e-c953-4b31-9e07-a89904a1b92f",
   "metadata": {},
   "outputs": [
    {
     "data": {
      "text/plain": [
       "['Coconut', 'Kiwi', 'Cheery', 'Banana']"
      ]
     },
     "execution_count": 22,
     "metadata": {},
     "output_type": "execute_result"
    }
   ],
   "source": [
    "# remove - It removes the specified value in the parameter\n",
    "list_example.remove('Orange')\n",
    "list_example"
   ]
  },
  {
   "cell_type": "markdown",
   "id": "f7074b56-092b-49f1-bd4d-12cde5b8fd72",
   "metadata": {},
   "source": [
    "###"
   ]
  },
  {
   "cell_type": "markdown",
   "id": "b22567f5-445a-40f3-b78f-c47f73285d0b",
   "metadata": {},
   "source": [
    "### 3. Dictionary"
   ]
  },
  {
   "cell_type": "code",
   "execution_count": 23,
   "id": "80ffa75a-3b4e-42e7-97bd-b26074a24918",
   "metadata": {},
   "outputs": [
    {
     "data": {
      "text/plain": [
       "dict"
      ]
     },
     "execution_count": 23,
     "metadata": {},
     "output_type": "execute_result"
    }
   ],
   "source": [
    "dict_var = dict()\n",
    "type(dict_var)"
   ]
  },
  {
   "cell_type": "code",
   "execution_count": 24,
   "id": "145519e5-9164-4481-8e75-e3c06fac8cc3",
   "metadata": {},
   "outputs": [],
   "source": [
    "# Can not access by index\n",
    "dict_var = {'Car1': 'Suzuki', 'Car2': 'Maruti', 'Car3': 'Audi'}\n",
    "# dict_var[1]"
   ]
  },
  {
   "cell_type": "code",
   "execution_count": 25,
   "id": "51b1f6a6-9665-45d1-b765-f261a7ff6a74",
   "metadata": {},
   "outputs": [
    {
     "data": {
      "text/plain": [
       "'Suzuki'"
      ]
     },
     "execution_count": 25,
     "metadata": {},
     "output_type": "execute_result"
    }
   ],
   "source": [
    "# Access by Key\n",
    "dict_var['Car1']"
   ]
  },
  {
   "cell_type": "code",
   "execution_count": 26,
   "id": "522bca8f-2f96-44bd-a904-7273bf26b9ea",
   "metadata": {},
   "outputs": [
    {
     "data": {
      "text/plain": [
       "'Suzuki'"
      ]
     },
     "execution_count": 26,
     "metadata": {},
     "output_type": "execute_result"
    }
   ],
   "source": [
    "# Access by get keyword\n",
    "dict_var.get('Car1')"
   ]
  },
  {
   "cell_type": "code",
   "execution_count": 27,
   "id": "11de030d-6874-4d60-8f13-d471664fa81e",
   "metadata": {},
   "outputs": [
    {
     "name": "stdout",
     "output_type": "stream",
     "text": [
      "Car1\n",
      "Car2\n",
      "Car3\n"
     ]
    }
   ],
   "source": [
    "# Access keys in te dictionary\n",
    "for x in dict_var:\n",
    "    print(x)"
   ]
  },
  {
   "cell_type": "code",
   "execution_count": 28,
   "id": "0830eb93-098b-43ca-b126-d405b6eba174",
   "metadata": {},
   "outputs": [
    {
     "name": "stdout",
     "output_type": "stream",
     "text": [
      "Suzuki\n",
      "Maruti\n",
      "Audi\n"
     ]
    }
   ],
   "source": [
    "# Access values in te dictionary\n",
    "for x in dict_var.values():\n",
    "    print(x)"
   ]
  },
  {
   "cell_type": "code",
   "execution_count": 29,
   "id": "37f88d52-c1fb-4009-a0a2-74ac28ec81ec",
   "metadata": {},
   "outputs": [
    {
     "name": "stdout",
     "output_type": "stream",
     "text": [
      "('Car1', 'Suzuki')\n",
      "('Car2', 'Maruti')\n",
      "('Car3', 'Audi')\n"
     ]
    }
   ],
   "source": [
    "# Access both keys values in te dictionary\n",
    "for x in dict_var.items():\n",
    "    print(x)"
   ]
  },
  {
   "cell_type": "code",
   "execution_count": 30,
   "id": "ab3d9497-848e-4fe9-85f0-4dfd39e51c48",
   "metadata": {},
   "outputs": [
    {
     "data": {
      "text/plain": [
       "{'Car1': 'Suzuki', 'Car2': 'Maruti', 'Car3': 'Audi', 'Car4': 'WagonR'}"
      ]
     },
     "execution_count": 30,
     "metadata": {},
     "output_type": "execute_result"
    }
   ],
   "source": [
    "# Add new key value\n",
    "\n",
    "dict_var['Car4'] = 'WagonR'\n",
    "dict_var"
   ]
  },
  {
   "cell_type": "code",
   "execution_count": 31,
   "id": "9b61c57e-4d15-4aac-ae24-c981e2c5e9c9",
   "metadata": {},
   "outputs": [
    {
     "name": "stdout",
     "output_type": "stream",
     "text": [
      "{'Car1': {'Maruti': 1998}, 'Car2': {'Audi': 2005}, 'Car3': {'WagonR': 2001}}\n",
      "{'Maruti': 1998}\n",
      "1998\n"
     ]
    }
   ],
   "source": [
    "# Nested Dictionaries\n",
    "\n",
    "car1 = {'Maruti': 1998}\n",
    "car2 = {'Audi': 2005}\n",
    "car3 = {'WagonR': 2001}\n",
    "\n",
    "nested_cars = {'Car1': car1, 'Car2':car2, 'Car3':car3}\n",
    "print(nested_cars)\n",
    "print(nested_cars.get('Car1'))\n",
    "print(nested_cars.get('Car1').get('Maruti'))"
   ]
  },
  {
   "cell_type": "markdown",
   "id": "9da26e9d-62dc-4545-a992-f26f9c3b3f5c",
   "metadata": {},
   "source": [
    "### 4. Tuple"
   ]
  },
  {
   "cell_type": "code",
   "execution_count": 32,
   "id": "6be95e2b-c286-4229-beec-62fb739fe474",
   "metadata": {},
   "outputs": [
    {
     "data": {
      "text/plain": [
       "tuple"
      ]
     },
     "execution_count": 32,
     "metadata": {},
     "output_type": "execute_result"
    }
   ],
   "source": [
    "tup_var = tuple()\n",
    "type(tup_var)"
   ]
  },
  {
   "cell_type": "code",
   "execution_count": 33,
   "id": "a0d7328b-4816-4cc4-9fd3-195efde3ec9c",
   "metadata": {},
   "outputs": [
    {
     "data": {
      "text/plain": [
       "tuple"
      ]
     },
     "execution_count": 33,
     "metadata": {},
     "output_type": "execute_result"
    }
   ],
   "source": [
    "tup_var = ('Ashish', 'Yogesh', 'Sagar')\n",
    "type(tup_var)"
   ]
  },
  {
   "cell_type": "code",
   "execution_count": 34,
   "id": "7e80f95b-66d2-4e90-88b5-90ab6536dc83",
   "metadata": {},
   "outputs": [],
   "source": [
    "# Tuples does not support item assignments\n",
    "# tup_var[0] = 'Vishal'"
   ]
  },
  {
   "cell_type": "code",
   "execution_count": 35,
   "id": "aaa85a95-56d9-4240-a360-2733b181e630",
   "metadata": {},
   "outputs": [
    {
     "data": {
      "text/plain": [
       "('Raj', 'Pooja', 'Ganesh')"
      ]
     },
     "execution_count": 35,
     "metadata": {},
     "output_type": "execute_result"
    }
   ],
   "source": [
    "# You can replace the tuple but can not change the values present in the tuple\n",
    "tup_var = ('Raj', 'Pooja', 'Ganesh')\n",
    "tup_var"
   ]
  },
  {
   "cell_type": "markdown",
   "id": "f85aeebb-129c-49ca-959b-ea89b6c259be",
   "metadata": {},
   "source": [
    "### 4. Set"
   ]
  },
  {
   "cell_type": "code",
   "execution_count": 36,
   "id": "6925b7d8-688d-4537-bb74-af4a9c1fa367",
   "metadata": {},
   "outputs": [
    {
     "name": "stdout",
     "output_type": "stream",
     "text": [
      "<class 'set'>\n"
     ]
    }
   ],
   "source": [
    "set_var = set()\n",
    "print(type(set_var))"
   ]
  },
  {
   "cell_type": "code",
   "execution_count": 37,
   "id": "aaf96655-8a78-470c-a084-a4b82b5ab620",
   "metadata": {},
   "outputs": [
    {
     "name": "stdout",
     "output_type": "stream",
     "text": [
      "{'Marvel', 'Avenger', 'Hulk'}\n",
      "<class 'set'>\n"
     ]
    }
   ],
   "source": [
    "set_var = {'Marvel', 'Avenger', 'Hulk'}\n",
    "print(set_var)\n",
    "print(type(set_var))"
   ]
  },
  {
   "cell_type": "code",
   "execution_count": 38,
   "id": "25aeb785-9f91-4e27-9bec-fdc1acdb08e2",
   "metadata": {},
   "outputs": [],
   "source": [
    "# set_var[0] - Can not access by Index\n",
    "# set_var['Marvel'] - Can not access by value"
   ]
  },
  {
   "cell_type": "code",
   "execution_count": 39,
   "id": "22ef1a0c-7a9c-42fc-bace-f1feec7d6667",
   "metadata": {},
   "outputs": [
    {
     "data": {
      "text/plain": [
       "{'Avenger', 'Hulk', 'Marvel'}"
      ]
     },
     "execution_count": 39,
     "metadata": {},
     "output_type": "execute_result"
    }
   ],
   "source": [
    "# Does not allow duplicate\n",
    "\n",
    "set_var.add('Avenger')\n",
    "set_var"
   ]
  },
  {
   "cell_type": "code",
   "execution_count": 40,
   "id": "146794ec-5446-4804-822d-8fb50875405d",
   "metadata": {},
   "outputs": [
    {
     "data": {
      "text/plain": [
       "{'Rocket'}"
      ]
     },
     "execution_count": 40,
     "metadata": {},
     "output_type": "execute_result"
    }
   ],
   "source": [
    "# Find the diffrence from previous set\n",
    "set_var2 = {'Marvel', 'Avenger', 'Hulk', 'Rocket'}\n",
    "\n",
    "set_var2.difference(set_var)"
   ]
  },
  {
   "cell_type": "code",
   "execution_count": 41,
   "id": "ccaa7dcd-cf35-43f6-b98d-d92c57d65cae",
   "metadata": {},
   "outputs": [
    {
     "data": {
      "text/plain": [
       "{'Avenger', 'Hulk', 'Marvel'}"
      ]
     },
     "execution_count": 41,
     "metadata": {},
     "output_type": "execute_result"
    }
   ],
   "source": [
    "# Intersection \n",
    "set_var2.intersection(set_var)"
   ]
  },
  {
   "cell_type": "code",
   "execution_count": 42,
   "id": "6ce4ff44-e4fc-4808-88bc-8adddd79c0f6",
   "metadata": {},
   "outputs": [
    {
     "data": {
      "text/plain": [
       "{'Avenger', 'Hulk', 'Marvel'}"
      ]
     },
     "execution_count": 42,
     "metadata": {},
     "output_type": "execute_result"
    }
   ],
   "source": [
    "# Intersection update\n",
    "set_var2.intersection_update(set_var)\n",
    "set_var2"
   ]
  },
  {
   "cell_type": "code",
   "execution_count": 43,
   "id": "e1142437-c33a-42e1-b1f1-9c55e792593f",
   "metadata": {},
   "outputs": [],
   "source": [
    "# Update the diffrence\n",
    "\n",
    "set_var2.difference_update(set_var)"
   ]
  },
  {
   "cell_type": "code",
   "execution_count": 44,
   "id": "bdfd5b55-8ebe-4f79-ba00-a2144faf79d5",
   "metadata": {},
   "outputs": [
    {
     "data": {
      "text/plain": [
       "set()"
      ]
     },
     "execution_count": 44,
     "metadata": {},
     "output_type": "execute_result"
    }
   ],
   "source": [
    "set_var2"
   ]
  },
  {
   "cell_type": "code",
   "execution_count": null,
   "id": "29986bdd-e91e-43c8-a145-660c2e3028d2",
   "metadata": {},
   "outputs": [],
   "source": []
  }
 ],
 "metadata": {
  "kernelspec": {
   "display_name": "Python 3 (ipykernel)",
   "language": "python",
   "name": "python3"
  },
  "language_info": {
   "codemirror_mode": {
    "name": "ipython",
    "version": 3
   },
   "file_extension": ".py",
   "mimetype": "text/x-python",
   "name": "python",
   "nbconvert_exporter": "python",
   "pygments_lexer": "ipython3",
   "version": "3.12.1"
  }
 },
 "nbformat": 4,
 "nbformat_minor": 5
}
